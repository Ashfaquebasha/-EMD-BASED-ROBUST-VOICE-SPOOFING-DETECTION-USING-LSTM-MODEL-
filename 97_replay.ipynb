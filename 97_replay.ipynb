{
  "cells": [
    {
      "cell_type": "markdown",
      "source": [],
      "metadata": {
        "id": "djy_ka7512I7"
      }
    },
    {
      "cell_type": "code",
      "execution_count": null,
      "metadata": {
        "id": "TZK80vdl2yXV"
      },
      "outputs": [],
      "source": [
        "import numpy as np\n",
        "import pandas as pd\n",
        "import librosa\n",
        "import matplotlib.pyplot as plt\n",
        "%matplotlib inline\n",
        "import os\n",
        "import csv\n",
        "import pywt"
      ]
    },
    {
      "cell_type": "code",
      "execution_count": 127,
      "metadata": {
        "id": "qb39HJek3FnS"
      },
      "outputs": [],
      "source": [
        "# Loop through each audio file in the dataset directory\n",
        "for filename in os.listdir(\"/content/drive/MyDrive/real_replay/genuine/\"):\n",
        "    if filename.endswith(\".flac\"):\n",
        "        # Load the audio file\n",
        "        samples, sr = librosa.load(\"/content/drive/MyDrive/real_replay/genuine/\" + filename)\n",
        "        coeffs = pywt.wavedec(samples, wavelet='db1', level=3)\n",
        "#         print(coeffs)\n",
        "        "
      ]
    },
    {
      "cell_type": "code",
      "execution_count": 129,
      "metadata": {
        "id": "r-ZiIM0K3IxF"
      },
      "outputs": [],
      "source": [
        "# Loop through each audio file in the dataset directory\n",
        "for filename in os.listdir(\"/content/drive/MyDrive/real_replay/spoof/\"):\n",
        "    if filename.endswith(\".flac\"):\n",
        "        # Load the audio file\n",
        "        samples, sr = librosa.load(\"/content/drive/MyDrive/real_replay/spoof/\" + filename)\n",
        "        coeffs = pywt.wavedec(samples, wavelet='db1', level=3)\n",
        "#         print(coeffs)\n",
        "        "
      ]
    },
    {
      "cell_type": "code",
      "execution_count": 130,
      "metadata": {
        "colab": {
          "base_uri": "https://localhost:8080/"
        },
        "id": "1tkl_sVY3rIT",
        "outputId": "3f05930d-4b48-4b7e-9bf2-5f8eff59e3d0"
      },
      "outputs": [
        {
          "output_type": "stream",
          "name": "stdout",
          "text": [
            "Importing required modules completed\n"
          ]
        }
      ],
      "source": [
        "# Preprocessing\n",
        "from sklearn.model_selection import train_test_split\n",
        "from sklearn.preprocessing import LabelEncoder, StandardScaler\n",
        "from scipy.io.wavfile import read\n",
        "\n",
        "#Keras\n",
        "import keras\n",
        "print(\"Importing required modules completed\")\n",
        "from keras.models import Sequential\n",
        "from keras.layers import Dense, Dropout, Activation, Flatten\n",
        "from keras.layers import Conv2D, MaxPooling2D\n",
        "\n",
        "\n",
        "\n",
        "\n",
        "for dirname, _, filenames in os.walk('asv'):\n",
        "    for filename in filenames:\n",
        "        print(os.path.join(dirname, filename))\n",
        "\n",
        "\n",
        "\n",
        "\n",
        "\n",
        "\n",
        "header = 'filename chroma_stft rmse spectral_centroid spectral_bandwidth rolloff zero_crossing_rate'\n",
        "for i in range(1, 41):\n",
        "    header += f' mfcc{i}'\n",
        "header += ' label'\n",
        "header = header.split()\n",
        "\n",
        "\n",
        "\n"
      ]
    },
    {
      "cell_type": "code",
      "execution_count": 131,
      "metadata": {
        "id": "-TryG8oP3uSD"
      },
      "outputs": [],
      "source": [
        "import csv\n",
        "import os\n",
        "import librosa\n",
        "import numpy as np\n",
        "import pywt\n",
        "\n",
        "# Define the header of the CSV file\n",
        "header = 'filename chroma_stft rmse spectral_centroid spectral_bandwidth rolloff zero_crossing_rate'\n",
        "for i in range(1, 41):\n",
        "    header += f' mfcc{i}'\n",
        "header += ' label'\n",
        "\n",
        "# Define the list of types of speech samples\n",
        "types = ['genuine', 'spoof']\n",
        "\n",
        "# Create the CSV file and write the header\n",
        "with open('dataset.csv', 'w', newline='') as file:\n",
        "    writer = csv.writer(file)\n",
        "    writer.writerow(header.split())\n",
        "\n",
        "# Loop through the types of speech samples\n",
        "for speech_type in types:\n",
        "    # Loop through the speech samples in the current type\n",
        "    for filename in os.listdir(f'/content/drive/MyDrive/real_replay/{speech_type}'):\n",
        "        speech_name = f'/content/drive/MyDrive/real_replay/{speech_type}/{filename}'\n",
        "        y, sr = librosa.load(speech_name, mono=True, duration=30)\n",
        "        \n",
        "        # Apply wavelet decomposition with level=3\n",
        "        coeffs = pywt.wavedec(y, wavelet='db1', level=13)\n",
        "        x = np.concatenate(coeffs)\n",
        "        \n",
        "        # Extract features\n",
        "        chroma_stft = librosa.feature.chroma_stft(y=x, sr=sr)\n",
        "        rmse = librosa.feature.rms(y=x)\n",
        "        spec_cent = librosa.feature.spectral_centroid(y=x, sr=sr)\n",
        "        spec_bw = librosa.feature.spectral_bandwidth(y=x, sr=sr)\n",
        "        rolloff = librosa.feature.spectral_rolloff(y=x, sr=sr)\n",
        "        zcr = librosa.feature.zero_crossing_rate(x)\n",
        "        mfcc = librosa.feature.mfcc(y=x, sr=sr, n_mfcc=40)\n",
        "        \n",
        "        # Create a row for the current speech sample with all the features and the label\n",
        "        row = f'{filename} {np.mean(chroma_stft)} {np.mean(rmse)} {np.mean(spec_cent)} {np.mean(spec_bw)} {np.mean(rolloff)} {np.mean(zcr)}'\n",
        "        for e in mfcc:\n",
        "            row += f' {np.mean(e)}'\n",
        "        row += f' {speech_type}'\n",
        "        \n",
        "        # Write the row to the CSV file\n",
        "        with open('dataset.csv', 'a', newline='') as file:\n",
        "            writer = csv.writer(file)\n",
        "            writer.writerow(row.split())\n"
      ]
    },
    {
      "cell_type": "code",
      "execution_count": 132,
      "metadata": {
        "id": "4JO2-Cbc4FMD"
      },
      "outputs": [],
      "source": [
        "import pandas as pd\n",
        "import numpy as np\n",
        "from sklearn.model_selection import train_test_split\n",
        "from keras.models import Sequential\n",
        "from keras.layers import LSTM, Dense, Dropout"
      ]
    },
    {
      "cell_type": "code",
      "execution_count": 133,
      "metadata": {
        "id": "JR-565sz4HgY"
      },
      "outputs": [],
      "source": [
        "# Load the dataset into a pandas dataframe\n",
        "df = pd.read_csv('dataset.csv')"
      ]
    },
    {
      "cell_type": "code",
      "execution_count": 134,
      "metadata": {
        "id": "T2a3ghAq4KRO"
      },
      "outputs": [],
      "source": [
        "# Split the dataset into training and testing sets\n",
        "X_train, X_test, y_train, y_test = train_test_split(df.drop('label', axis=1), df['label'], test_size=0.2, random_state=42)"
      ]
    },
    {
      "cell_type": "code",
      "execution_count": 135,
      "metadata": {
        "id": "13zu4iFW4M6X"
      },
      "outputs": [],
      "source": [
        "# Remove the filename column from the X array\n",
        "X = df.drop(['label', 'filename'], axis=1).values"
      ]
    },
    {
      "cell_type": "code",
      "execution_count": 136,
      "metadata": {
        "id": "zjGYDUY14QUK"
      },
      "outputs": [],
      "source": [
        "# Convert the labels to numerical values\n",
        "y = pd.get_dummies(df['label']).values\n"
      ]
    },
    {
      "cell_type": "code",
      "execution_count": 137,
      "metadata": {
        "id": "dYex0W9b4SSx"
      },
      "outputs": [],
      "source": [
        "# Split the dataset into training and testing sets\n",
        "X_train, X_test, y_train, y_test = train_test_split(X, y, test_size=0.2, random_state=58)"
      ]
    },
    {
      "cell_type": "code",
      "execution_count": 138,
      "metadata": {
        "id": "pPUJcZJk4U6G"
      },
      "outputs": [],
      "source": [
        "# Reshape the input data to fit the LSTM model\n",
        "X_train = np.reshape(X_train, (X_train.shape[0], X_train.shape[1], 1))\n",
        "X_test = np.reshape(X_test, (X_test.shape[0], X_test.shape[1], 1))\n"
      ]
    },
    {
      "cell_type": "code",
      "execution_count": 139,
      "metadata": {
        "id": "iN8hBSVx4XNM"
      },
      "outputs": [],
      "source": [
        "# Build an LSTM model\n",
        "model = Sequential()\n",
        "model.add(LSTM(units=128, input_shape=(X_train.shape[1], X_train.shape[2])))\n",
        "model.add(Dropout(0.2))\n",
        "model.add(Dense(2, activation='sigmoid'))"
      ]
    },
    {
      "cell_type": "code",
      "execution_count": 140,
      "metadata": {
        "id": "NjmbeQyd4aIN"
      },
      "outputs": [],
      "source": [
        "model.compile(optimizer='adam', loss='binary_crossentropy', metrics=['accuracy'])\n"
      ]
    },
    {
      "cell_type": "code",
      "execution_count": 141,
      "metadata": {
        "colab": {
          "base_uri": "https://localhost:8080/"
        },
        "id": "K4399x9a4cMH",
        "outputId": "90b72f8a-70ca-44a4-f1ef-5ad1b1214b5c"
      },
      "outputs": [
        {
          "output_type": "stream",
          "name": "stdout",
          "text": [
            "Epoch 1/30\n",
            "34/34 [==============================] - 4s 20ms/step - loss: 0.5357 - accuracy: 0.7731 - val_loss: 0.4837 - val_accuracy: 0.8089\n",
            "Epoch 2/30\n",
            "34/34 [==============================] - 0s 9ms/step - loss: 0.4508 - accuracy: 0.7958 - val_loss: 0.4109 - val_accuracy: 0.8089\n",
            "Epoch 3/30\n",
            "34/34 [==============================] - 0s 7ms/step - loss: 0.3985 - accuracy: 0.8046 - val_loss: 0.3695 - val_accuracy: 0.8071\n",
            "Epoch 4/30\n",
            "34/34 [==============================] - 0s 7ms/step - loss: 0.3503 - accuracy: 0.8343 - val_loss: 0.3542 - val_accuracy: 0.8182\n",
            "Epoch 5/30\n",
            "34/34 [==============================] - 0s 8ms/step - loss: 0.3293 - accuracy: 0.8497 - val_loss: 0.3268 - val_accuracy: 0.8237\n",
            "Epoch 6/30\n",
            "34/34 [==============================] - 0s 7ms/step - loss: 0.3501 - accuracy: 0.8404 - val_loss: 0.3252 - val_accuracy: 0.8423\n",
            "Epoch 7/30\n",
            "34/34 [==============================] - 0s 8ms/step - loss: 0.3053 - accuracy: 0.8608 - val_loss: 0.3267 - val_accuracy: 0.8404\n",
            "Epoch 8/30\n",
            "34/34 [==============================] - 0s 7ms/step - loss: 0.3397 - accuracy: 0.8473 - val_loss: 0.3336 - val_accuracy: 0.8349\n",
            "Epoch 9/30\n",
            "34/34 [==============================] - 0s 8ms/step - loss: 0.3096 - accuracy: 0.8677 - val_loss: 0.2932 - val_accuracy: 0.8738\n",
            "Epoch 10/30\n",
            "34/34 [==============================] - 0s 8ms/step - loss: 0.2790 - accuracy: 0.8798 - val_loss: 0.3008 - val_accuracy: 0.8571\n",
            "Epoch 11/30\n",
            "34/34 [==============================] - 0s 8ms/step - loss: 0.2646 - accuracy: 0.8835 - val_loss: 0.2534 - val_accuracy: 0.8905\n",
            "Epoch 12/30\n",
            "34/34 [==============================] - 0s 8ms/step - loss: 0.2617 - accuracy: 0.8933 - val_loss: 0.2716 - val_accuracy: 0.8942\n",
            "Epoch 13/30\n",
            "34/34 [==============================] - 0s 8ms/step - loss: 0.2384 - accuracy: 0.8956 - val_loss: 0.2384 - val_accuracy: 0.9017\n",
            "Epoch 14/30\n",
            "34/34 [==============================] - 0s 7ms/step - loss: 0.2419 - accuracy: 0.8974 - val_loss: 0.2043 - val_accuracy: 0.9072\n",
            "Epoch 15/30\n",
            "34/34 [==============================] - 0s 8ms/step - loss: 0.2239 - accuracy: 0.9058 - val_loss: 0.1965 - val_accuracy: 0.9109\n",
            "Epoch 16/30\n",
            "34/34 [==============================] - 0s 8ms/step - loss: 0.2292 - accuracy: 0.9030 - val_loss: 0.1920 - val_accuracy: 0.9202\n",
            "Epoch 17/30\n",
            "34/34 [==============================] - 0s 7ms/step - loss: 0.1840 - accuracy: 0.9295 - val_loss: 0.1807 - val_accuracy: 0.9239\n",
            "Epoch 18/30\n",
            "34/34 [==============================] - 0s 7ms/step - loss: 0.1545 - accuracy: 0.9429 - val_loss: 0.1520 - val_accuracy: 0.9314\n",
            "Epoch 19/30\n",
            "34/34 [==============================] - 0s 8ms/step - loss: 0.1516 - accuracy: 0.9360 - val_loss: 0.1549 - val_accuracy: 0.9499\n",
            "Epoch 20/30\n",
            "34/34 [==============================] - 0s 8ms/step - loss: 0.1759 - accuracy: 0.9318 - val_loss: 0.1390 - val_accuracy: 0.9481\n",
            "Epoch 21/30\n",
            "34/34 [==============================] - 0s 7ms/step - loss: 0.1428 - accuracy: 0.9452 - val_loss: 0.1163 - val_accuracy: 0.9462\n",
            "Epoch 22/30\n",
            "34/34 [==============================] - 0s 7ms/step - loss: 0.1434 - accuracy: 0.9476 - val_loss: 0.1201 - val_accuracy: 0.9666\n",
            "Epoch 23/30\n",
            "34/34 [==============================] - 0s 7ms/step - loss: 0.1462 - accuracy: 0.9392 - val_loss: 0.1502 - val_accuracy: 0.9499\n",
            "Epoch 24/30\n",
            "34/34 [==============================] - 0s 7ms/step - loss: 0.1252 - accuracy: 0.9503 - val_loss: 0.1212 - val_accuracy: 0.9481\n",
            "Epoch 25/30\n",
            "34/34 [==============================] - 0s 8ms/step - loss: 0.1210 - accuracy: 0.9531 - val_loss: 0.1146 - val_accuracy: 0.9462\n",
            "Epoch 26/30\n",
            "34/34 [==============================] - 0s 8ms/step - loss: 0.1766 - accuracy: 0.9341 - val_loss: 0.1407 - val_accuracy: 0.9314\n",
            "Epoch 27/30\n",
            "34/34 [==============================] - 0s 8ms/step - loss: 0.1284 - accuracy: 0.9466 - val_loss: 0.1059 - val_accuracy: 0.9555\n",
            "Epoch 28/30\n",
            "34/34 [==============================] - 0s 7ms/step - loss: 0.1491 - accuracy: 0.9425 - val_loss: 0.1244 - val_accuracy: 0.9536\n",
            "Epoch 29/30\n",
            "34/34 [==============================] - 0s 7ms/step - loss: 0.1148 - accuracy: 0.9531 - val_loss: 0.0895 - val_accuracy: 0.9685\n",
            "Epoch 30/30\n",
            "34/34 [==============================] - 0s 7ms/step - loss: 0.0979 - accuracy: 0.9633 - val_loss: 0.0908 - val_accuracy: 0.9740\n"
          ]
        },
        {
          "output_type": "execute_result",
          "data": {
            "text/plain": [
              "<keras.callbacks.History at 0x7f849db8c160>"
            ]
          },
          "metadata": {},
          "execution_count": 141
        }
      ],
      "source": [
        "# Train the model\n",
        "model.fit(X_train, y_train, epochs=30, batch_size=64, validation_data=(X_test, y_test))"
      ]
    },
    {
      "cell_type": "code",
      "execution_count": 142,
      "metadata": {
        "colab": {
          "base_uri": "https://localhost:8080/"
        },
        "id": "DXZNw2mF6gOZ",
        "outputId": "8479f845-ddca-4715-968f-2943379e8fda"
      },
      "outputs": [
        {
          "output_type": "stream",
          "name": "stdout",
          "text": [
            "17/17 [==============================] - 0s 4ms/step - loss: 0.0908 - accuracy: 0.9740\n",
            "Accuracy: 0.9740259647369385\n"
          ]
        }
      ],
      "source": [
        "loss, accuracy = model.evaluate(X_test, y_test)\n",
        "print('Accuracy:', accuracy)"
      ]
    },
    {
      "cell_type": "code",
      "execution_count": null,
      "metadata": {
        "colab": {
          "base_uri": "https://localhost:8080/"
        },
        "id": "uu_os-4g8jYa",
        "outputId": "d5bcaf44-4840-47c4-dca1-89c9aadca35a"
      },
      "outputs": [
        {
          "output_type": "stream",
          "name": "stdout",
          "text": [
            "Test loss: 0.478078693151474\n",
            "Test accuracy: 0.7909091114997864\n"
          ]
        }
      ],
      "source": [
        "# evaluate the model\n",
        "score = model.evaluate(X_test, y_test, verbose=0)\n",
        "print(\"Test loss:\", score[0])\n",
        "print(\"Test accuracy:\", score[1])\n"
      ]
    },
    {
      "cell_type": "code",
      "source": [
        "import pandas as pd\n",
        "import numpy as np\n",
        "from sklearn.model_selection import train_test_split\n",
        "from keras.models import Sequential\n",
        "from keras.layers import LSTM, Dense, Dropout\n",
        "from sklearn.metrics import classification_report, roc_curve, confusion_matrix\n"
      ],
      "metadata": {
        "id": "7mRcH1Fo9CXF"
      },
      "execution_count": null,
      "outputs": []
    },
    {
      "cell_type": "code",
      "source": [
        "# Use the model to predict labels for the test data\n",
        "y_pred = model.predict(X_test)\n",
        "y_pred = np.argmax(y_pred, axis=1)\n",
        "y_true = np.argmax(y_test, axis=1)\n",
        "\n",
        "# Compute precision, recall, and F1 score\n",
        "report = classification_report(y_true, y_pred)\n",
        "print(report)\n"
      ],
      "metadata": {
        "colab": {
          "base_uri": "https://localhost:8080/"
        },
        "id": "Vg84oeWh9G8v",
        "outputId": "375389c7-d13f-4c50-86cc-f8c1a1c0ef8d"
      },
      "execution_count": null,
      "outputs": [
        {
          "output_type": "stream",
          "name": "stdout",
          "text": [
            "7/7 [==============================] - 0s 3ms/step\n",
            "              precision    recall  f1-score   support\n",
            "\n",
            "           0       0.74      0.89      0.81       111\n",
            "           1       0.86      0.69      0.77       109\n",
            "\n",
            "    accuracy                           0.79       220\n",
            "   macro avg       0.80      0.79      0.79       220\n",
            "weighted avg       0.80      0.79      0.79       220\n",
            "\n"
          ]
        }
      ]
    },
    {
      "cell_type": "code",
      "source": [
        "from sklearn.metrics import classification_report\n",
        "\n",
        "# Use the model to predict labels for the test data\n",
        "y_pred = model.predict(X_test)\n",
        "y_pred = np.argmax(y_pred, axis=1)\n",
        "y_true = np.argmax(y_test, axis=1)\n",
        "\n",
        "# Compute precision, recall, and F1 score without support\n",
        "report_dict = classification_report(y_true, y_pred, zero_division=0, output_dict=True)\n",
        "precision = report_dict['weighted avg']['precision']\n",
        "recall = report_dict['weighted avg']['recall']\n",
        "f1_score = report_dict['weighted avg']['f1-score']\n",
        "\n",
        "# Print the results\n",
        "print(\"Precision:\", precision)\n",
        "print(\"Recall:\", recall)\n",
        "print(\"F1 score:\", f1_score)\n"
      ],
      "metadata": {
        "colab": {
          "base_uri": "https://localhost:8080/"
        },
        "id": "EvZ7ifm-E3iJ",
        "outputId": "560cba02-25ac-4ac8-869d-37c707ce5274"
      },
      "execution_count": null,
      "outputs": [
        {
          "output_type": "stream",
          "name": "stdout",
          "text": [
            "7/7 [==============================] - 0s 3ms/step\n",
            "Precision: 0.8026798972352511\n",
            "Recall: 0.7909090909090909\n",
            "F1 score: 0.7886006265397366\n"
          ]
        }
      ]
    },
    {
      "cell_type": "code",
      "source": [
        "import seaborn as sns\n",
        "import matplotlib.pyplot as plt\n",
        "import numpy as np\n",
        "from sklearn.metrics import confusion_matrix\n",
        "\n",
        "# true labels and predicted labels\n",
        "y_true = np.argmax(y_test, axis=1)\n",
        "y_pred = np.argmax(model.predict(X_test), axis=1)\n",
        "\n",
        "# create confusion matrix\n",
        "cm = confusion_matrix(y_true, y_pred)\n",
        "\n",
        "# create heatmap\n",
        "sns.heatmap(cm, annot=True, cmap='Blues', fmt='g')\n",
        "\n",
        "# add labels to the plot\n",
        "plt.xlabel('Predicted')\n",
        "plt.ylabel('Actual')\n",
        "\n",
        "# show plot\n",
        "plt.show()"
      ],
      "metadata": {
        "colab": {
          "base_uri": "https://localhost:8080/",
          "height": 466
        },
        "id": "SwqdMkYh_AIn",
        "outputId": "6dfceeee-7453-4e93-b6bb-731f53230b2d"
      },
      "execution_count": null,
      "outputs": [
        {
          "output_type": "stream",
          "name": "stdout",
          "text": [
            "7/7 [==============================] - 0s 3ms/step\n"
          ]
        },
        {
          "output_type": "display_data",
          "data": {
            "text/plain": [
              "<Figure size 640x480 with 2 Axes>"
            ],
            "image/png": "[encoded data removed]"
          },
          "metadata": {}
        }
      ]
    },
    {
      "cell_type": "code",
      "source": [
        "n_samples = X_test.shape[0]\n",
        "print(\"Total number of samples:\", n_samples)\n"
      ],
      "metadata": {
        "colab": {
          "base_uri": "https://localhost:8080/"
        },
        "id": "2x1J9PjanlPs",
        "outputId": "f1111455-ace0-4da1-8fcd-181153810dad"
      },
      "execution_count": null,
      "outputs": [
        {
          "output_type": "stream",
          "name": "stdout",
          "text": [
            "Total number of samples: 220\n"
          ]
        }
      ]
    },
    {
      "cell_type": "code",
      "source": [
        "# Calculate the accuracy\n",
        "total_correct = cm[0,0] + cm[1,1] # total number of correct predictions\n",
        "total_predictions = np.sum(cm) # total number of predictions\n",
        "accuracy = total_correct / total_predictions # accuracy = total correct / total predictions\n",
        "\n",
        "print('Accuracy:', accuracy)\n"
      ],
      "metadata": {
        "colab": {
          "base_uri": "https://localhost:8080/"
        },
        "id": "pLEzaImZcfJM",
        "outputId": "c127c2f6-fa29-4c11-f760-dcc4026704e2"
      },
      "execution_count": null,
      "outputs": [
        {
          "output_type": "stream",
          "name": "stdout",
          "text": [
            "Accuracy: 0.7909090909090909\n"
          ]
        }
      ]
    },
    {
      "cell_type": "code",
      "source": [
        "from sklearn.metrics import classification_report\n",
        "import matplotlib.pyplot as plt\n",
        "import numpy as np\n",
        "\n",
        "# Use the model to predict labels for the test data\n",
        "y_pred = model.predict(X_test)\n",
        "y_pred = np.argmax(y_pred, axis=1)\n",
        "y_true = np.argmax(y_test, axis=1)\n",
        "\n",
        "# Compute precision, recall, and F1 score\n",
        "report = classification_report(y_true, y_pred, output_dict=True)\n",
        "classes = [str(c) for c in range(len(report) - 3)]\n",
        "metrics = ['precision', 'recall', 'f1-score']\n",
        "\n",
        "# Create a bar chart for all metrics\n",
        "fig, ax = plt.subplots()\n",
        "width = 0.2\n",
        "x = np.arange(len(classes))\n",
        "for i, metric in enumerate(metrics):\n",
        "    values = [report[c][metric] for c in classes]\n",
        "    ax.bar(x + i*width, values, width, label=metric)\n",
        "\n",
        "ax.set_xticks(x)\n",
        "ax.set_xticklabels(classes)\n",
        "ax.legend()\n",
        "plt.show()\n"
      ],
      "metadata": {
        "colab": {
          "base_uri": "https://localhost:8080/",
          "height": 447
        },
        "id": "73Y-P3Z5_n80",
        "outputId": "103c7e16-7aa4-4523-e6e2-e5afbb52c73c"
      },
      "execution_count": null,
      "outputs": [
        {
          "output_type": "stream",
          "name": "stdout",
          "text": [
            "7/7 [==============================] - 0s 3ms/step\n"
          ]
        },
        {
          "output_type": "display_data",
          "data": {
            "text/plain": [
              "<Figure size 640x480 with 1 Axes>"
            ],
            "image/png": "[encoded data removed]"
          },
          "metadata": {}
        }
      ]
    },
    {
      "cell_type": "code",
      "source": [
        "from scipy.optimize import brentq\n",
        "from scipy.interpolate import interp1d\n",
        "\n",
        "# Use the model to predict labels for the test data\n",
        "y_pred = model.predict(X_test)\n",
        "y_pred = np.argmax(y_pred, axis=1)\n",
        "y_true = np.argmax(y_test, axis=1)\n",
        "\n",
        "# Compute the false positive rate and true positive rate using ROC curve\n",
        "fpr, tpr, thresholds = roc_curve(y_true, y_pred)\n",
        "\n",
        "# Compute the EER using the intersection of the ROC curve with the line FPR = FNR\n",
        "fnr = 1 - tpr\n",
        "eer_threshold = brentq(lambda x : 1. - interp1d(fpr, tpr)(x) - x, 0., 1.)\n",
        "eer = 1. - interp1d(fpr, tpr)(eer_threshold)\n",
        "print('Equal Error Rate:', eer)\n"
      ],
      "metadata": {
        "colab": {
          "base_uri": "https://localhost:8080/"
        },
        "id": "V0lX2eDcDG-C",
        "outputId": "62e76bc5-effa-4adb-8683-65a114b01afa"
      },
      "execution_count": null,
      "outputs": [
        {
          "output_type": "stream",
          "name": "stdout",
          "text": [
            "7/7 [==============================] - 0s 3ms/step\n",
            "Equal Error Rate: 0.2591143151390308\n"
          ]
        }
      ]
    }
  ],
  "metadata": {
    "colab": {
      "provenance": []
    },
    "kernelspec": {
      "display_name": "Python 3",
      "name": "python3"
    },
    "language_info": {
      "name": "python"
    },
    "accelerator": "GPU",
    "gpuClass": "standard"
  },
  "nbformat": 4,
  "nbformat_minor": 0
}